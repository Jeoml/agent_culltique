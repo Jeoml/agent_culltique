{
 "cells": [
  {
   "cell_type": "code",
   "execution_count": 34,
   "id": "51bfd36e",
   "metadata": {},
   "outputs": [],
   "source": [
    "from typing import Dict, TypedDict\n",
    "from langgraph.graph import StateGraph"
   ]
  },
  {
   "cell_type": "code",
   "execution_count": 35,
   "id": "2099f2d6",
   "metadata": {},
   "outputs": [],
   "source": [
    "class AgentState(TypedDict):\n",
    "    skills: list[str]\n",
    "    name: str\n",
    "    age: int\n",
    "    final: str\n",
    "\n",
    "def greet_user(state: AgentState) -> AgentState:\n",
    "    state['final'] = f\"Hey {state['name']}, Welcome to the system! \"\n",
    "    return state\n",
    "\n",
    "def insert_age(state: AgentState) -> AgentState:\n",
    "    state['final'] = state['final'] + f\"You are {state['age']} years old.\"\n",
    "    return state\n",
    "\n",
    "def insert_skills(state: AgentState) -> AgentState:\n",
    "    skillset = \"\"\n",
    "    skillset = \", \".join(state['skills'])\n",
    "    state['final'] = state['final'] + f\" You have skills in: {skillset}\"\n",
    "    return state"
   ]
  },
  {
   "cell_type": "code",
   "execution_count": 36,
   "id": "5fcf9413",
   "metadata": {},
   "outputs": [],
   "source": [
    "graph = StateGraph(AgentState)\n",
    "graph.add_node(\"greeting\", greet_user)\n",
    "graph.set_entry_point(\"greeting\")\n",
    "graph.add_node(\"insert_age\", insert_age)\n",
    "graph.add_node(\"insert_skills\", insert_skills)\n",
    "graph.add_edge(\"greeting\", \"insert_age\")\n",
    "graph.add_edge(\"insert_age\", \"insert_skills\")\n",
    "graph.set_finish_point(\"insert_skills\")\n",
    "app = graph.compile()"
   ]
  },
  {
   "cell_type": "code",
   "execution_count": 37,
   "id": "bd21a6a7",
   "metadata": {},
   "outputs": [
    {
     "data": {
      "image/png": "[encoded data removed]",
      "text/plain": [
       "<IPython.core.display.Image object>"
      ]
     },
     "metadata": {},
     "output_type": "display_data"
    }
   ],
   "source": [
    "from IPython.display import Image, display\n",
    "display(Image(app.get_graph().draw_mermaid_png()))"
   ]
  },
  {
   "cell_type": "code",
   "execution_count": 38,
   "id": "83471bf2",
   "metadata": {},
   "outputs": [],
   "source": [
    "result = app.invoke({\"skills\": [\"Python\", \"JavaScript\"], \"name\": \"Alice\", \"age\": 30})"
   ]
  },
  {
   "cell_type": "code",
   "execution_count": 39,
   "id": "e3650c97",
   "metadata": {},
   "outputs": [
    {
     "data": {
      "text/plain": [
       "'Hey Alice, Welcome to the system! You are 30 years old. You have skills in: Python, JavaScript'"
      ]
     },
     "execution_count": 39,
     "metadata": {},
     "output_type": "execute_result"
    }
   ],
   "source": [
    "result['final']"
   ]
  }
 ],
 "metadata": {
  "kernelspec": {
   "display_name": ".venv",
   "language": "python",
   "name": "python3"
  },
  "language_info": {
   "codemirror_mode": {
    "name": "ipython",
    "version": 3
   },
   "file_extension": ".py",
   "mimetype": "text/x-python",
   "name": "python",
   "nbconvert_exporter": "python",
   "pygments_lexer": "ipython3",
   "version": "3.10.0"
  }
 },
 "nbformat": 4,
 "nbformat_minor": 5
}
