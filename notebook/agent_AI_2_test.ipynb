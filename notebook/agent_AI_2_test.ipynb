{
 "cells": [
  {
   "cell_type": "code",
   "execution_count": 4,
   "id": "f6d0f148",
   "metadata": {},
   "outputs": [
    {
     "data": {
      "text/plain": [
       "True"
      ]
     },
     "execution_count": 4,
     "metadata": {},
     "output_type": "execute_result"
    }
   ],
   "source": [
    "from typing import TypedDict, List, Union\n",
    "from langchain_core.messages import HumanMessage, AIMessage\n",
    "from langgraph.graph import StateGraph, START, END\n",
    "from dotenv import load_dotenv\n",
    "from langchain_groq import ChatGroq\n",
    "import asyncio\n",
    "import uvicorn\n",
    "import sys\n",
    "import os\n",
    "from dotenv import load_dotenv\n",
    "load_dotenv()"
   ]
  },
  {
   "cell_type": "code",
   "execution_count": 2,
   "id": "ad7ea823",
   "metadata": {},
   "outputs": [],
   "source": [
    "os.environ[\"GROQ_API_KEY\"] = os.getenv(\"GROQ_API_KEY\")\n",
    "model = ChatGroq(model = \"meta-llama/llama-4-maverick-17b-128e-instruct\")"
   ]
  },
  {
   "cell_type": "code",
   "execution_count": 6,
   "id": "42e833a7",
   "metadata": {},
   "outputs": [],
   "source": [
    "class AgentState(TypedDict):\n",
    "    messages: List[Union[HumanMessage, AIMessage]]"
   ]
  },
  {
   "cell_type": "code",
   "execution_count": 7,
   "id": "b3bad517",
   "metadata": {},
   "outputs": [],
   "source": [
    "def process(state: AgentState) -> AgentState:\n",
    "    \"\"\"this node will solve the request you input\"\"\"\n",
    "    # inserting history\n",
    "    response = model.invoke(state['messages'])\n",
    "    # inserting the recently generated output\n",
    "    state['messages'].append(AIMessage(content=response.content))\n",
    "    print(f\"\\nAI: {response.content}\")\n",
    "    return state"
   ]
  },
  {
   "cell_type": "code",
   "execution_count": 8,
   "id": "4f39162e",
   "metadata": {},
   "outputs": [],
   "source": [
    "graph = StateGraph(AgentState)\n",
    "graph.add_node(\"process\", process)\n",
    "graph.add_edge(START, \"process\")\n",
    "graph.add_edge(\"process\", END)\n",
    "agent = graph.compile()"
   ]
  },
  {
   "cell_type": "code",
   "execution_count": 11,
   "id": "aa1636f2",
   "metadata": {},
   "outputs": [],
   "source": [
    "conversation_history = []"
   ]
  },
  {
   "cell_type": "code",
   "execution_count": null,
   "id": "4e802608",
   "metadata": {},
   "outputs": [
    {
     "name": "stdout",
     "output_type": "stream",
     "text": [
      "\n",
      "AI: Hi! It's nice to meet you. Is there something I can help you with or would you like to chat?\n",
      "[HumanMessage(content='Hi', additional_kwargs={}, response_metadata={}), HumanMessage(content='hi', additional_kwargs={}, response_metadata={}), HumanMessage(content='hi', additional_kwargs={}, response_metadata={}), AIMessage(content=\"Hi! It's nice to meet you. Is there something I can help you with or would you like to chat?\", additional_kwargs={}, response_metadata={})]\n",
      "History: [HumanMessage(content='Hi', additional_kwargs={}, response_metadata={}), HumanMessage(content='hi', additional_kwargs={}, response_metadata={}), HumanMessage(content='hi', additional_kwargs={}, response_metadata={}), AIMessage(content=\"Hi! It's nice to meet you. Is there something I can help you with or would you like to chat?\", additional_kwargs={}, response_metadata={})]\n",
      "\n",
      "AI: It looks like you're having a bit of a \"hi\" streak! That's okay, I'm happy to chat with you. How's your day going so far?\n",
      "[HumanMessage(content='Hi', additional_kwargs={}, response_metadata={}), HumanMessage(content='hi', additional_kwargs={}, response_metadata={}), HumanMessage(content='hi', additional_kwargs={}, response_metadata={}), AIMessage(content=\"Hi! It's nice to meet you. Is there something I can help you with or would you like to chat?\", additional_kwargs={}, response_metadata={}), HumanMessage(content='hi', additional_kwargs={}, response_metadata={}), AIMessage(content='It looks like you\\'re having a bit of a \"hi\" streak! That\\'s okay, I\\'m happy to chat with you. How\\'s your day going so far?', additional_kwargs={}, response_metadata={})]\n",
      "History: [HumanMessage(content='Hi', additional_kwargs={}, response_metadata={}), HumanMessage(content='hi', additional_kwargs={}, response_metadata={}), HumanMessage(content='hi', additional_kwargs={}, response_metadata={}), AIMessage(content=\"Hi! It's nice to meet you. Is there something I can help you with or would you like to chat?\", additional_kwargs={}, response_metadata={}), HumanMessage(content='hi', additional_kwargs={}, response_metadata={}), AIMessage(content='It looks like you\\'re having a bit of a \"hi\" streak! That\\'s okay, I\\'m happy to chat with you. How\\'s your day going so far?', additional_kwargs={}, response_metadata={})]\n",
      "\n",
      "AI: It looks like you're having a bit of a \"hi\" streak! That's okay, I'm happy to chat with you. How's your day going so far?\n",
      "[HumanMessage(content='Hi', additional_kwargs={}, response_metadata={}), HumanMessage(content='hi', additional_kwargs={}, response_metadata={}), HumanMessage(content='hi', additional_kwargs={}, response_metadata={}), AIMessage(content=\"Hi! It's nice to meet you. Is there something I can help you with or would you like to chat?\", additional_kwargs={}, response_metadata={}), HumanMessage(content='hi', additional_kwargs={}, response_metadata={}), AIMessage(content='It looks like you\\'re having a bit of a \"hi\" streak! That\\'s okay, I\\'m happy to chat with you. How\\'s your day going so far?', additional_kwargs={}, response_metadata={})]\n",
      "History: [HumanMessage(content='Hi', additional_kwargs={}, response_metadata={}), HumanMessage(content='hi', additional_kwargs={}, response_metadata={}), HumanMessage(content='hi', additional_kwargs={}, response_metadata={}), AIMessage(content=\"Hi! It's nice to meet you. Is there something I can help you with or would you like to chat?\", additional_kwargs={}, response_metadata={}), HumanMessage(content='hi', additional_kwargs={}, response_metadata={}), AIMessage(content='It looks like you\\'re having a bit of a \"hi\" streak! That\\'s okay, I\\'m happy to chat with you. How\\'s your day going so far?', additional_kwargs={}, response_metadata={})]\n",
      "\n",
      "AI: It seems like you're not sure what to say next. That's okay! We can just chat about anything. What's on your mind? Or we can play a game, like \"Would you rather...\", if you'd like.\n",
      "[HumanMessage(content='Hi', additional_kwargs={}, response_metadata={}), HumanMessage(content='hi', additional_kwargs={}, response_metadata={}), HumanMessage(content='hi', additional_kwargs={}, response_metadata={}), AIMessage(content=\"Hi! It's nice to meet you. Is there something I can help you with or would you like to chat?\", additional_kwargs={}, response_metadata={}), HumanMessage(content='hi', additional_kwargs={}, response_metadata={}), AIMessage(content='It looks like you\\'re having a bit of a \"hi\" streak! That\\'s okay, I\\'m happy to chat with you. How\\'s your day going so far?', additional_kwargs={}, response_metadata={}), HumanMessage(content='', additional_kwargs={}, response_metadata={}), AIMessage(content='It seems like you\\'re not sure what to say next. That\\'s okay! We can just chat about anything. What\\'s on your mind? Or we can play a game, like \"Would you rather...\", if you\\'d like.', additional_kwargs={}, response_metadata={})]\n",
      "History: [HumanMessage(content='Hi', additional_kwargs={}, response_metadata={}), HumanMessage(content='hi', additional_kwargs={}, response_metadata={}), HumanMessage(content='hi', additional_kwargs={}, response_metadata={}), AIMessage(content=\"Hi! It's nice to meet you. Is there something I can help you with or would you like to chat?\", additional_kwargs={}, response_metadata={}), HumanMessage(content='hi', additional_kwargs={}, response_metadata={}), AIMessage(content='It looks like you\\'re having a bit of a \"hi\" streak! That\\'s okay, I\\'m happy to chat with you. How\\'s your day going so far?', additional_kwargs={}, response_metadata={}), HumanMessage(content='', additional_kwargs={}, response_metadata={}), AIMessage(content='It seems like you\\'re not sure what to say next. That\\'s okay! We can just chat about anything. What\\'s on your mind? Or we can play a game, like \"Would you rather...\", if you\\'d like.', additional_kwargs={}, response_metadata={})]\n",
      "\n",
      "AI: It seems like you're not sure what to say next. That's okay! We can just chat about anything. What's on your mind? Or we can play a game, like \"Would you rather...\", if you'd like.\n",
      "[HumanMessage(content='Hi', additional_kwargs={}, response_metadata={}), HumanMessage(content='hi', additional_kwargs={}, response_metadata={}), HumanMessage(content='hi', additional_kwargs={}, response_metadata={}), AIMessage(content=\"Hi! It's nice to meet you. Is there something I can help you with or would you like to chat?\", additional_kwargs={}, response_metadata={}), HumanMessage(content='hi', additional_kwargs={}, response_metadata={}), AIMessage(content='It looks like you\\'re having a bit of a \"hi\" streak! That\\'s okay, I\\'m happy to chat with you. How\\'s your day going so far?', additional_kwargs={}, response_metadata={}), HumanMessage(content='', additional_kwargs={}, response_metadata={}), AIMessage(content='It seems like you\\'re not sure what to say next. That\\'s okay! We can just chat about anything. What\\'s on your mind? Or we can play a game, like \"Would you rather...\", if you\\'d like.', additional_kwargs={}, response_metadata={})]\n",
      "History: [HumanMessage(content='Hi', additional_kwargs={}, response_metadata={}), HumanMessage(content='hi', additional_kwargs={}, response_metadata={}), HumanMessage(content='hi', additional_kwargs={}, response_metadata={}), AIMessage(content=\"Hi! It's nice to meet you. Is there something I can help you with or would you like to chat?\", additional_kwargs={}, response_metadata={}), HumanMessage(content='hi', additional_kwargs={}, response_metadata={}), AIMessage(content='It looks like you\\'re having a bit of a \"hi\" streak! That\\'s okay, I\\'m happy to chat with you. How\\'s your day going so far?', additional_kwargs={}, response_metadata={}), HumanMessage(content='', additional_kwargs={}, response_metadata={}), AIMessage(content='It seems like you\\'re not sure what to say next. That\\'s okay! We can just chat about anything. What\\'s on your mind? Or we can play a game, like \"Would you rather...\", if you\\'d like.', additional_kwargs={}, response_metadata={})]\n",
      "\n",
      "AI: It seems like we're having a quiet conversation. If you're ready to chat, I'm here to listen. If not, that's okay too. We can just be quiet together for a bit.\n",
      "[HumanMessage(content='Hi', additional_kwargs={}, response_metadata={}), HumanMessage(content='hi', additional_kwargs={}, response_metadata={}), HumanMessage(content='hi', additional_kwargs={}, response_metadata={}), AIMessage(content=\"Hi! It's nice to meet you. Is there something I can help you with or would you like to chat?\", additional_kwargs={}, response_metadata={}), HumanMessage(content='hi', additional_kwargs={}, response_metadata={}), AIMessage(content='It looks like you\\'re having a bit of a \"hi\" streak! That\\'s okay, I\\'m happy to chat with you. How\\'s your day going so far?', additional_kwargs={}, response_metadata={}), HumanMessage(content='', additional_kwargs={}, response_metadata={}), AIMessage(content='It seems like you\\'re not sure what to say next. That\\'s okay! We can just chat about anything. What\\'s on your mind? Or we can play a game, like \"Would you rather...\", if you\\'d like.', additional_kwargs={}, response_metadata={}), HumanMessage(content='', additional_kwargs={}, response_metadata={}), AIMessage(content=\"It seems like we're having a quiet conversation. If you're ready to chat, I'm here to listen. If not, that's okay too. We can just be quiet together for a bit.\", additional_kwargs={}, response_metadata={})]\n",
      "History: [HumanMessage(content='Hi', additional_kwargs={}, response_metadata={}), HumanMessage(content='hi', additional_kwargs={}, response_metadata={}), HumanMessage(content='hi', additional_kwargs={}, response_metadata={}), AIMessage(content=\"Hi! It's nice to meet you. Is there something I can help you with or would you like to chat?\", additional_kwargs={}, response_metadata={}), HumanMessage(content='hi', additional_kwargs={}, response_metadata={}), AIMessage(content='It looks like you\\'re having a bit of a \"hi\" streak! That\\'s okay, I\\'m happy to chat with you. How\\'s your day going so far?', additional_kwargs={}, response_metadata={}), HumanMessage(content='', additional_kwargs={}, response_metadata={}), AIMessage(content='It seems like you\\'re not sure what to say next. That\\'s okay! We can just chat about anything. What\\'s on your mind? Or we can play a game, like \"Would you rather...\", if you\\'d like.', additional_kwargs={}, response_metadata={}), HumanMessage(content='', additional_kwargs={}, response_metadata={}), AIMessage(content=\"It seems like we're having a quiet conversation. If you're ready to chat, I'm here to listen. If not, that's okay too. We can just be quiet together for a bit.\", additional_kwargs={}, response_metadata={})]\n",
      "\n",
      "AI: It seems like we're having a quiet conversation. If you're ready to chat, I'm here to listen. If not, that's okay too. We can just be quiet together for a bit.\n",
      "[HumanMessage(content='Hi', additional_kwargs={}, response_metadata={}), HumanMessage(content='hi', additional_kwargs={}, response_metadata={}), HumanMessage(content='hi', additional_kwargs={}, response_metadata={}), AIMessage(content=\"Hi! It's nice to meet you. Is there something I can help you with or would you like to chat?\", additional_kwargs={}, response_metadata={}), HumanMessage(content='hi', additional_kwargs={}, response_metadata={}), AIMessage(content='It looks like you\\'re having a bit of a \"hi\" streak! That\\'s okay, I\\'m happy to chat with you. How\\'s your day going so far?', additional_kwargs={}, response_metadata={}), HumanMessage(content='', additional_kwargs={}, response_metadata={}), AIMessage(content='It seems like you\\'re not sure what to say next. That\\'s okay! We can just chat about anything. What\\'s on your mind? Or we can play a game, like \"Would you rather...\", if you\\'d like.', additional_kwargs={}, response_metadata={}), HumanMessage(content='', additional_kwargs={}, response_metadata={}), AIMessage(content=\"It seems like we're having a quiet conversation. If you're ready to chat, I'm here to listen. If not, that's okay too. We can just be quiet together for a bit.\", additional_kwargs={}, response_metadata={})]\n",
      "History: [HumanMessage(content='Hi', additional_kwargs={}, response_metadata={}), HumanMessage(content='hi', additional_kwargs={}, response_metadata={}), HumanMessage(content='hi', additional_kwargs={}, response_metadata={}), AIMessage(content=\"Hi! It's nice to meet you. Is there something I can help you with or would you like to chat?\", additional_kwargs={}, response_metadata={}), HumanMessage(content='hi', additional_kwargs={}, response_metadata={}), AIMessage(content='It looks like you\\'re having a bit of a \"hi\" streak! That\\'s okay, I\\'m happy to chat with you. How\\'s your day going so far?', additional_kwargs={}, response_metadata={}), HumanMessage(content='', additional_kwargs={}, response_metadata={}), AIMessage(content='It seems like you\\'re not sure what to say next. That\\'s okay! We can just chat about anything. What\\'s on your mind? Or we can play a game, like \"Would you rather...\", if you\\'d like.', additional_kwargs={}, response_metadata={}), HumanMessage(content='', additional_kwargs={}, response_metadata={}), AIMessage(content=\"It seems like we're having a quiet conversation. If you're ready to chat, I'm here to listen. If not, that's okay too. We can just be quiet together for a bit.\", additional_kwargs={}, response_metadata={})]\n",
      "\n",
      "AI: It's okay if you're not sure what to say. I'm here if you need me. Feel free to share as much or as little as you'd like.\n",
      "[HumanMessage(content='Hi', additional_kwargs={}, response_metadata={}), HumanMessage(content='hi', additional_kwargs={}, response_metadata={}), HumanMessage(content='hi', additional_kwargs={}, response_metadata={}), AIMessage(content=\"Hi! It's nice to meet you. Is there something I can help you with or would you like to chat?\", additional_kwargs={}, response_metadata={}), HumanMessage(content='hi', additional_kwargs={}, response_metadata={}), AIMessage(content='It looks like you\\'re having a bit of a \"hi\" streak! That\\'s okay, I\\'m happy to chat with you. How\\'s your day going so far?', additional_kwargs={}, response_metadata={}), HumanMessage(content='', additional_kwargs={}, response_metadata={}), AIMessage(content='It seems like you\\'re not sure what to say next. That\\'s okay! We can just chat about anything. What\\'s on your mind? Or we can play a game, like \"Would you rather...\", if you\\'d like.', additional_kwargs={}, response_metadata={}), HumanMessage(content='', additional_kwargs={}, response_metadata={}), AIMessage(content=\"It seems like we're having a quiet conversation. If you're ready to chat, I'm here to listen. If not, that's okay too. We can just be quiet together for a bit.\", additional_kwargs={}, response_metadata={}), HumanMessage(content='', additional_kwargs={}, response_metadata={}), AIMessage(content=\"It's okay if you're not sure what to say. I'm here if you need me. Feel free to share as much or as little as you'd like.\", additional_kwargs={}, response_metadata={})]\n",
      "History: [HumanMessage(content='Hi', additional_kwargs={}, response_metadata={}), HumanMessage(content='hi', additional_kwargs={}, response_metadata={}), HumanMessage(content='hi', additional_kwargs={}, response_metadata={}), AIMessage(content=\"Hi! It's nice to meet you. Is there something I can help you with or would you like to chat?\", additional_kwargs={}, response_metadata={}), HumanMessage(content='hi', additional_kwargs={}, response_metadata={}), AIMessage(content='It looks like you\\'re having a bit of a \"hi\" streak! That\\'s okay, I\\'m happy to chat with you. How\\'s your day going so far?', additional_kwargs={}, response_metadata={}), HumanMessage(content='', additional_kwargs={}, response_metadata={}), AIMessage(content='It seems like you\\'re not sure what to say next. That\\'s okay! We can just chat about anything. What\\'s on your mind? Or we can play a game, like \"Would you rather...\", if you\\'d like.', additional_kwargs={}, response_metadata={}), HumanMessage(content='', additional_kwargs={}, response_metadata={}), AIMessage(content=\"It seems like we're having a quiet conversation. If you're ready to chat, I'm here to listen. If not, that's okay too. We can just be quiet together for a bit.\", additional_kwargs={}, response_metadata={}), HumanMessage(content='', additional_kwargs={}, response_metadata={}), AIMessage(content=\"It's okay if you're not sure what to say. I'm here if you need me. Feel free to share as much or as little as you'd like.\", additional_kwargs={}, response_metadata={})]\n",
      "\n",
      "AI: It's okay if you're not sure what to say. I'm here if you need me. Feel free to share as much or as little as you'd like.\n",
      "[HumanMessage(content='Hi', additional_kwargs={}, response_metadata={}), HumanMessage(content='hi', additional_kwargs={}, response_metadata={}), HumanMessage(content='hi', additional_kwargs={}, response_metadata={}), AIMessage(content=\"Hi! It's nice to meet you. Is there something I can help you with or would you like to chat?\", additional_kwargs={}, response_metadata={}), HumanMessage(content='hi', additional_kwargs={}, response_metadata={}), AIMessage(content='It looks like you\\'re having a bit of a \"hi\" streak! That\\'s okay, I\\'m happy to chat with you. How\\'s your day going so far?', additional_kwargs={}, response_metadata={}), HumanMessage(content='', additional_kwargs={}, response_metadata={}), AIMessage(content='It seems like you\\'re not sure what to say next. That\\'s okay! We can just chat about anything. What\\'s on your mind? Or we can play a game, like \"Would you rather...\", if you\\'d like.', additional_kwargs={}, response_metadata={}), HumanMessage(content='', additional_kwargs={}, response_metadata={}), AIMessage(content=\"It seems like we're having a quiet conversation. If you're ready to chat, I'm here to listen. If not, that's okay too. We can just be quiet together for a bit.\", additional_kwargs={}, response_metadata={}), HumanMessage(content='', additional_kwargs={}, response_metadata={}), AIMessage(content=\"It's okay if you're not sure what to say. I'm here if you need me. Feel free to share as much or as little as you'd like.\", additional_kwargs={}, response_metadata={})]\n",
      "History: [HumanMessage(content='Hi', additional_kwargs={}, response_metadata={}), HumanMessage(content='hi', additional_kwargs={}, response_metadata={}), HumanMessage(content='hi', additional_kwargs={}, response_metadata={}), AIMessage(content=\"Hi! It's nice to meet you. Is there something I can help you with or would you like to chat?\", additional_kwargs={}, response_metadata={}), HumanMessage(content='hi', additional_kwargs={}, response_metadata={}), AIMessage(content='It looks like you\\'re having a bit of a \"hi\" streak! That\\'s okay, I\\'m happy to chat with you. How\\'s your day going so far?', additional_kwargs={}, response_metadata={}), HumanMessage(content='', additional_kwargs={}, response_metadata={}), AIMessage(content='It seems like you\\'re not sure what to say next. That\\'s okay! We can just chat about anything. What\\'s on your mind? Or we can play a game, like \"Would you rather...\", if you\\'d like.', additional_kwargs={}, response_metadata={}), HumanMessage(content='', additional_kwargs={}, response_metadata={}), AIMessage(content=\"It seems like we're having a quiet conversation. If you're ready to chat, I'm here to listen. If not, that's okay too. We can just be quiet together for a bit.\", additional_kwargs={}, response_metadata={}), HumanMessage(content='', additional_kwargs={}, response_metadata={}), AIMessage(content=\"It's okay if you're not sure what to say. I'm here if you need me. Feel free to share as much or as little as you'd like.\", additional_kwargs={}, response_metadata={})]\n"
     ]
    }
   ],
   "source": [
    "user_input = input(\"Enter: \")\n",
    "while user_input.lower() != \"exit\":\n",
    "    conversation_history.append(HumanMessage(content=user_input))\n",
    "    result = agent.invoke({'messages': conversation_history})\n",
    "    conversation_history = result['messages']\n",
    "    user_input = input(\"Enter: \")"
   ]
  }
 ],
 "metadata": {
  "kernelspec": {
   "display_name": ".venv",
   "language": "python",
   "name": "python3"
  },
  "language_info": {
   "codemirror_mode": {
    "name": "ipython",
    "version": 3
   },
   "file_extension": ".py",
   "mimetype": "text/x-python",
   "name": "python",
   "nbconvert_exporter": "python",
   "pygments_lexer": "ipython3",
   "version": "3.10.0"
  }
 },
 "nbformat": 4,
 "nbformat_minor": 5
}
