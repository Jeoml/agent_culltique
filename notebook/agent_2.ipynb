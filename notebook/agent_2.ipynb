{
 "cells": [
  {
   "cell_type": "code",
   "execution_count": 41,
   "id": "a25e7d0e",
   "metadata": {},
   "outputs": [],
   "source": [
    "from typing import Dict, TypedDict\n",
    "from langgraph.graph import StateGraph"
   ]
  },
  {
   "cell_type": "code",
   "execution_count": 42,
   "id": "e3169374",
   "metadata": {},
   "outputs": [],
   "source": [
    "class AgentState(TypedDict):\n",
    "    values: list[int]\n",
    "    name: str\n",
    "    message: str\n",
    "\n",
    "def greeting_message(state: AgentState) -> AgentState:\n",
    "    \"\"\"this function handles multiple different inputs\"\"\"\n",
    "    state['message'] = \"Hey there \"+state['name']+\", here is the computation of the values: \"+str(sum(state['values']))+\".\"\n",
    "    return state"
   ]
  },
  {
   "cell_type": "code",
   "execution_count": 43,
   "id": "288f5fd3",
   "metadata": {},
   "outputs": [],
   "source": [
    "graph = StateGraph(AgentState)\n",
    "graph.add_node(\"greeting\", greeting_message)\n",
    "graph.set_entry_point(\"greeting\")\n",
    "graph.set_finish_point(\"greeting\")\n",
    "app = graph.compile()"
   ]
  },
  {
   "cell_type": "code",
   "execution_count": 44,
   "id": "2e368549",
   "metadata": {},
   "outputs": [],
   "source": [
    "result = app.invoke({\"values\": [1,2,3], \"name\": \"Bob\"})"
   ]
  },
  {
   "cell_type": "code",
   "execution_count": 45,
   "id": "7fba38aa",
   "metadata": {},
   "outputs": [
    {
     "data": {
      "text/plain": [
       "'Hey there Bob, here is the computation of the values: 6.'"
      ]
     },
     "execution_count": 45,
     "metadata": {},
     "output_type": "execute_result"
    }
   ],
   "source": [
    "result['message']"
   ]
  }
 ],
 "metadata": {
  "kernelspec": {
   "display_name": ".venv",
   "language": "python",
   "name": "python3"
  },
  "language_info": {
   "codemirror_mode": {
    "name": "ipython",
    "version": 3
   },
   "file_extension": ".py",
   "mimetype": "text/x-python",
   "name": "python",
   "nbconvert_exporter": "python",
   "pygments_lexer": "ipython3",
   "version": "3.10.0"
  }
 },
 "nbformat": 4,
 "nbformat_minor": 5
}
