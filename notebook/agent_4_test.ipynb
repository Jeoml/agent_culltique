{
 "cells": [
  {
   "cell_type": "code",
   "execution_count": 18,
   "id": "d29aea16",
   "metadata": {},
   "outputs": [],
   "source": [
    "from typing import TypedDict, Dict\n",
    "from langgraph.graph import StateGraph, START, END"
   ]
  },
  {
   "cell_type": "code",
   "execution_count": 19,
   "id": "3392a69c",
   "metadata": {},
   "outputs": [],
   "source": [
    "class AgentState(TypedDict):\n",
    "    number1: int\n",
    "    number2: int\n",
    "    operation1: str\n",
    "    finalNumber1: int\n",
    "    number3: int\n",
    "    number4: int\n",
    "    operation2: str\n",
    "    finalNumber2: int"
   ]
  },
  {
   "cell_type": "code",
   "execution_count": 20,
   "id": "5d8d6860",
   "metadata": {},
   "outputs": [],
   "source": [
    "def add_number_1(state: AgentState) -> AgentState:\n",
    "    \"\"\"function to add two numbers\"\"\"\n",
    "    state['finalNumber1'] = state['number1'] + state['number2']\n",
    "    return state\n",
    "def sub_number_1(state: AgentState) -> AgentState:\n",
    "    \"\"\"function to substract two numbers\"\"\"\n",
    "    state['finalNumber1'] = state['number1'] - state['number2']\n",
    "    return state"
   ]
  },
  {
   "cell_type": "code",
   "execution_count": 21,
   "id": "90049894",
   "metadata": {},
   "outputs": [],
   "source": [
    "def router_1(state: AgentState) -> AgentState:\n",
    "    \"\"\"function to check if the first operation is addition or subtraction\"\"\"\n",
    "    if state['operation1'] == '+':\n",
    "        return \"addition\"\n",
    "    elif state['operation1'] == '-':\n",
    "        return \"subtraction\""
   ]
  },
  {
   "cell_type": "code",
   "execution_count": 22,
   "id": "f522b53b",
   "metadata": {},
   "outputs": [],
   "source": [
    "def add_number_2(state: AgentState) -> AgentState:\n",
    "    \"\"\"function to add two numbers\"\"\"\n",
    "    state['finalNumber2'] = state['number3'] + state['number4']\n",
    "    return state\n",
    "def sub_number_2(state: AgentState) -> AgentState:\n",
    "    \"\"\"function to substract two numbers\"\"\"\n",
    "    state['finalNumber2'] = state['number3'] - state['number4']\n",
    "    return state"
   ]
  },
  {
   "cell_type": "code",
   "execution_count": 23,
   "id": "a5693471",
   "metadata": {},
   "outputs": [],
   "source": [
    "def router_2(state: AgentState) -> AgentState:\n",
    "    \"\"\"function to check if the first operation is addition or subtraction\"\"\"\n",
    "    if state['operation2'] == '+':\n",
    "        return \"addition\"\n",
    "    elif state['operation2'] == '-':\n",
    "        return \"subtraction\""
   ]
  },
  {
   "cell_type": "code",
   "execution_count": 24,
   "id": "a91ece20",
   "metadata": {},
   "outputs": [],
   "source": [
    "graph = StateGraph(AgentState)\n",
    "graph.add_node(\"add_1\", add_number_1)\n",
    "graph.add_node(\"sub_1\", sub_number_1)\n",
    "graph.add_node(\"add_2\", add_number_2)\n",
    "graph.add_node(\"sub_2\", sub_number_2)\n",
    "graph.add_node(\"router_1\", lambda state:state)\n",
    "graph.add_node(\"router_2\", lambda state:state)\n",
    "graph.add_edge(START, \"router_1\")\n",
    "graph.add_conditional_edges(\n",
    "    \"router_1\",\n",
    "    router_1,\n",
    "    {\n",
    "        \"addition\": \"add_1\",\n",
    "        \"subtraction\": \"sub_1\"\n",
    "    }\n",
    ")\n",
    "graph.add_edge(\"add_1\", \"router_2\")\n",
    "graph.add_edge(\"sub_1\", \"router_2\")\n",
    "graph.add_conditional_edges(\n",
    "    \"router_2\",\n",
    "    router_2,\n",
    "    {\n",
    "        \"addition\": \"add_2\",\n",
    "        \"subtraction\": \"sub_2\"\n",
    "    }\n",
    ")\n",
    "app = graph.compile()"
   ]
  },
  {
   "cell_type": "code",
   "execution_count": 25,
   "id": "bc6c125f",
   "metadata": {},
   "outputs": [
    {
     "data": {
      "text/plain": [
       "(8, 6)"
      ]
     },
     "execution_count": 25,
     "metadata": {},
     "output_type": "execute_result"
    }
   ],
   "source": [
    "result = app.invoke({\n",
    "    \"number1\": 5,\n",
    "    \"number2\": 3,\n",
    "    \"operation1\": \"+\",\n",
    "    \"finalNumber1\": 0,\n",
    "    \"number3\": 10,\n",
    "    \"number4\": 4,\n",
    "    \"operation2\": \"-\",\n",
    "    \"finalNumber2\": 0\n",
    "})\n",
    "result['finalNumber1'], result['finalNumber2']"
   ]
  },
  {
   "cell_type": "code",
   "execution_count": 26,
   "id": "9d60c1a0",
   "metadata": {},
   "outputs": [
    {
     "data": {
      "image/png": "[encoded data removed]",
      "text/plain": [
       "<IPython.core.display.Image object>"
      ]
     },
     "metadata": {},
     "output_type": "display_data"
    }
   ],
   "source": [
    "from IPython.display import Image, display\n",
    "display(Image(app.get_graph().draw_mermaid_png()))"
   ]
  }
 ],
 "metadata": {
  "kernelspec": {
   "display_name": ".venv",
   "language": "python",
   "name": "python3"
  },
  "language_info": {
   "codemirror_mode": {
    "name": "ipython",
    "version": 3
   },
   "file_extension": ".py",
   "mimetype": "text/x-python",
   "name": "python",
   "nbconvert_exporter": "python",
   "pygments_lexer": "ipython3",
   "version": "3.10.0"
  }
 },
 "nbformat": 4,
 "nbformat_minor": 5
}
